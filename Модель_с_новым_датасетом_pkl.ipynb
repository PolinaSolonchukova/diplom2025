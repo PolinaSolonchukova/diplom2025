{
  "nbformat": 4,
  "nbformat_minor": 0,
  "metadata": {
    "colab": {
      "provenance": [],
      "collapsed_sections": [
        "9v1gkOR8xm15"
      ]
    },
    "kernelspec": {
      "name": "python3",
      "display_name": "Python 3"
    },
    "language_info": {
      "name": "python"
    }
  },
  "cells": [
    {
      "cell_type": "code",
      "source": [
        "from google.colab import drive\n",
        "drive.mount('/content/drive')"
      ],
      "metadata": {
        "colab": {
          "base_uri": "https://localhost:8080/"
        },
        "id": "VHmHxn5UbMA8",
        "outputId": "9dbe66ae-c944-4c09-f14c-42806cff6b8b"
      },
      "execution_count": null,
      "outputs": [
        {
          "output_type": "stream",
          "name": "stdout",
          "text": [
            "Mounted at /content/drive\n"
          ]
        }
      ]
    },
    {
      "cell_type": "code",
      "source": [
        "!pip install transliterate\n"
      ],
      "metadata": {
        "colab": {
          "base_uri": "https://localhost:8080/"
        },
        "id": "SWqhxuv2WRK0",
        "outputId": "10aa1803-40c0-46cc-d5cc-1461cb102275"
      },
      "execution_count": null,
      "outputs": [
        {
          "output_type": "stream",
          "name": "stdout",
          "text": [
            "Collecting transliterate\n",
            "  Downloading transliterate-1.10.2-py2.py3-none-any.whl.metadata (14 kB)\n",
            "Requirement already satisfied: six>=1.1.0 in /usr/local/lib/python3.11/dist-packages (from transliterate) (1.17.0)\n",
            "Downloading transliterate-1.10.2-py2.py3-none-any.whl (45 kB)\n",
            "\u001b[?25l   \u001b[90m━━━━━━━━━━━━━━━━━━━━━━━━━━━━━━━━━━━━━━━━\u001b[0m \u001b[32m0.0/45.8 kB\u001b[0m \u001b[31m?\u001b[0m eta \u001b[36m-:--:--\u001b[0m\r\u001b[2K   \u001b[90m━━━━━━━━━━━━━━━━━━━━━━━━━━━━━━━━━━━━━━━━\u001b[0m \u001b[32m45.8/45.8 kB\u001b[0m \u001b[31m2.8 MB/s\u001b[0m eta \u001b[36m0:00:00\u001b[0m\n",
            "\u001b[?25hInstalling collected packages: transliterate\n",
            "Successfully installed transliterate-1.10.2\n"
          ]
        }
      ]
    },
    {
      "cell_type": "code",
      "execution_count": null,
      "metadata": {
        "id": "d-6wLoWjVbFX"
      },
      "outputs": [],
      "source": [
        "import pandas as pd"
      ]
    },
    {
      "cell_type": "code",
      "source": [
        "!pip install catboost"
      ],
      "metadata": {
        "colab": {
          "base_uri": "https://localhost:8080/"
        },
        "collapsed": true,
        "id": "zWDsiqFPNq-W",
        "outputId": "4f314a96-8284-4c28-992a-3be3db2897d3"
      },
      "execution_count": null,
      "outputs": [
        {
          "output_type": "stream",
          "name": "stdout",
          "text": [
            "Collecting catboost\n",
            "  Downloading catboost-1.2.8-cp311-cp311-manylinux2014_x86_64.whl.metadata (1.2 kB)\n",
            "Requirement already satisfied: graphviz in /usr/local/lib/python3.11/dist-packages (from catboost) (0.20.3)\n",
            "Requirement already satisfied: matplotlib in /usr/local/lib/python3.11/dist-packages (from catboost) (3.10.0)\n",
            "Requirement already satisfied: numpy<3.0,>=1.16.0 in /usr/local/lib/python3.11/dist-packages (from catboost) (2.0.2)\n",
            "Requirement already satisfied: pandas>=0.24 in /usr/local/lib/python3.11/dist-packages (from catboost) (2.2.2)\n",
            "Requirement already satisfied: scipy in /usr/local/lib/python3.11/dist-packages (from catboost) (1.15.3)\n",
            "Requirement already satisfied: plotly in /usr/local/lib/python3.11/dist-packages (from catboost) (5.24.1)\n",
            "Requirement already satisfied: six in /usr/local/lib/python3.11/dist-packages (from catboost) (1.17.0)\n",
            "Requirement already satisfied: python-dateutil>=2.8.2 in /usr/local/lib/python3.11/dist-packages (from pandas>=0.24->catboost) (2.9.0.post0)\n",
            "Requirement already satisfied: pytz>=2020.1 in /usr/local/lib/python3.11/dist-packages (from pandas>=0.24->catboost) (2025.2)\n",
            "Requirement already satisfied: tzdata>=2022.7 in /usr/local/lib/python3.11/dist-packages (from pandas>=0.24->catboost) (2025.2)\n",
            "Requirement already satisfied: contourpy>=1.0.1 in /usr/local/lib/python3.11/dist-packages (from matplotlib->catboost) (1.3.2)\n",
            "Requirement already satisfied: cycler>=0.10 in /usr/local/lib/python3.11/dist-packages (from matplotlib->catboost) (0.12.1)\n",
            "Requirement already satisfied: fonttools>=4.22.0 in /usr/local/lib/python3.11/dist-packages (from matplotlib->catboost) (4.57.0)\n",
            "Requirement already satisfied: kiwisolver>=1.3.1 in /usr/local/lib/python3.11/dist-packages (from matplotlib->catboost) (1.4.8)\n",
            "Requirement already satisfied: packaging>=20.0 in /usr/local/lib/python3.11/dist-packages (from matplotlib->catboost) (24.2)\n",
            "Requirement already satisfied: pillow>=8 in /usr/local/lib/python3.11/dist-packages (from matplotlib->catboost) (11.2.1)\n",
            "Requirement already satisfied: pyparsing>=2.3.1 in /usr/local/lib/python3.11/dist-packages (from matplotlib->catboost) (3.2.3)\n",
            "Requirement already satisfied: tenacity>=6.2.0 in /usr/local/lib/python3.11/dist-packages (from plotly->catboost) (9.1.2)\n",
            "Downloading catboost-1.2.8-cp311-cp311-manylinux2014_x86_64.whl (99.2 MB)\n",
            "\u001b[2K   \u001b[90m━━━━━━━━━━━━━━━━━━━━━━━━━━━━━━━━━━━━━━━━\u001b[0m \u001b[32m99.2/99.2 MB\u001b[0m \u001b[31m6.5 MB/s\u001b[0m eta \u001b[36m0:00:00\u001b[0m\n",
            "\u001b[?25hInstalling collected packages: catboost\n",
            "Successfully installed catboost-1.2.8\n"
          ]
        }
      ]
    },
    {
      "cell_type": "code",
      "source": [
        "import matplotlib.pyplot as plt\n",
        "import torch.nn as nn\n",
        "import torch.optim as optim\n",
        "from tqdm import tqdm\n",
        "from sklearn.model_selection import train_test_split\n",
        "from sklearn.preprocessing import OneHotEncoder, LabelEncoder, MinMaxScaler\n",
        "# import category_encoders as ce\n",
        "import numpy as np\n",
        "from sklearn.compose import ColumnTransformer\n",
        "import torchvision.transforms.v2 as T\n",
        "import torchvision.models as models\n",
        "from torch.utils.data import Dataset\n",
        "from sklearn.metrics import classification_report, confusion_matrix\n",
        "import seaborn as sns\n",
        "import time\n",
        "import sympy\n",
        "import pandas as pd"
      ],
      "metadata": {
        "id": "3XSq1CFkLZIy"
      },
      "execution_count": null,
      "outputs": []
    },
    {
      "cell_type": "code",
      "source": [
        "import pickle\n",
        "from catboost import CatBoostClassifier, Pool\n",
        "#import optuna\n",
        "from sklearn.metrics import classification_report, roc_auc_score\n",
        "from sklearn.metrics import accuracy_score, recall_score, precision_score,f1_score\n"
      ],
      "metadata": {
        "id": "QwoXzZcJNY_S"
      },
      "execution_count": null,
      "outputs": []
    },
    {
      "cell_type": "code",
      "source": [
        "data2 = pd.read_excel('/content/drive/MyDrive/ранжирование мероприятий/Сводный перечень (1).xlsx', sheet_name='Датасет')"
      ],
      "metadata": {
        "id": "AsWoabgs9vvb"
      },
      "execution_count": null,
      "outputs": []
    },
    {
      "cell_type": "markdown",
      "source": [
        "удаляю нулевую строку"
      ],
      "metadata": {
        "id": "qqsABxgX9vve"
      }
    },
    {
      "cell_type": "code",
      "source": [
        "data2 = data2.drop([0])"
      ],
      "metadata": {
        "id": "rJlnMXYr9vve"
      },
      "execution_count": null,
      "outputs": []
    },
    {
      "cell_type": "markdown",
      "source": [
        "Удален \"Суммарный балл по мероприятию\" потому что не нужен"
      ],
      "metadata": {
        "id": "4hCLut3w9vve"
      }
    },
    {
      "cell_type": "code",
      "source": [
        "data2 = data2.drop(['Суммарный балл по мероприятию'], axis=1)\n",
        "data2 = data2.fillna(0)\n",
        "data2 = data2.astype({'СРОК РЕАЛИЗАЦИИ (начало)': 'int',\n",
        "                'СРОК РЕАЛИЗАЦИИ (окончание)': 'int',\n",
        "                  'Профинансировано': int})"
      ],
      "metadata": {
        "colab": {
          "base_uri": "https://localhost:8080/"
        },
        "outputId": "fce8c3d2-1548-422e-f063-1e522e84efc7",
        "id": "efXHIWWf9vve"
      },
      "execution_count": null,
      "outputs": [
        {
          "output_type": "stream",
          "name": "stderr",
          "text": [
            "<ipython-input-13-8392742b5bcf>:2: FutureWarning: Downcasting object dtype arrays on .fillna, .ffill, .bfill is deprecated and will change in a future version. Call result.infer_objects(copy=False) instead. To opt-in to the future behavior, set `pd.set_option('future.no_silent_downcasting', True)`\n",
            "  data2 = data2.fillna(0)\n"
          ]
        }
      ]
    },
    {
      "cell_type": "code",
      "source": [
        "from sklearn.preprocessing import MinMaxScaler"
      ],
      "metadata": {
        "id": "TuhUlTef9vvf"
      },
      "execution_count": null,
      "outputs": []
    },
    {
      "cell_type": "code",
      "source": [
        "scaler = MinMaxScaler()"
      ],
      "metadata": {
        "id": "-UKF3gln9vvf"
      },
      "execution_count": null,
      "outputs": []
    },
    {
      "cell_type": "code",
      "source": [
        "data2.iloc[:, 5:-1 ] = scaler.fit_transform(data2.iloc[:, 5:-1 ])"
      ],
      "metadata": {
        "colab": {
          "base_uri": "https://localhost:8080/"
        },
        "outputId": "327d4e31-6045-4eeb-f3bc-3b4db3f43afd",
        "id": "nxdx0RI79vvf"
      },
      "execution_count": null,
      "outputs": [
        {
          "output_type": "stream",
          "name": "stderr",
          "text": [
            "<ipython-input-16-1cfc0c288ece>:1: FutureWarning: Setting an item of incompatible dtype is deprecated and will raise in a future error of pandas. Value '[0. 1. 1. ... 0. 0. 0.]' has dtype incompatible with int64, please explicitly cast to a compatible dtype first.\n",
            "  data2.iloc[:, 5:-1 ] = scaler.fit_transform(data2.iloc[:, 5:-1 ])\n"
          ]
        }
      ]
    },
    {
      "cell_type": "code",
      "source": [
        "data2['Показатели и единицы измерения  (Численность населения, для которого созданы комфортные условия проживания вблизи водных объектов, чел.)'] = np.log1p(data2['Показатели и единицы измерения  (Численность населения, для которого созданы комфортные условия проживания вблизи водных объектов, чел.)'])"
      ],
      "metadata": {
        "id": "4gyp35TA9vvi"
      },
      "execution_count": null,
      "outputs": []
    },
    {
      "cell_type": "code",
      "source": [
        "data2 = data2.drop(columns = ['Наименование мероприятия'])"
      ],
      "metadata": {
        "id": "NbQuoVba9vvj"
      },
      "execution_count": null,
      "outputs": []
    },
    {
      "cell_type": "code",
      "source": [
        "X2 = data2.drop('Профинансировано', axis=1)\n",
        "y2 = data2['Профинансировано']"
      ],
      "metadata": {
        "id": "6rt9yJJ09vvj"
      },
      "execution_count": null,
      "outputs": []
    },
    {
      "cell_type": "code",
      "source": [
        "X_train2, X_test2, y_train2, y_test2 = train_test_split(\n",
        "    X2, y2, test_size=0.3, stratify=y2, random_state=42)"
      ],
      "metadata": {
        "id": "RmX95eko9vvk"
      },
      "execution_count": null,
      "outputs": []
    },
    {
      "cell_type": "code",
      "source": [
        "cat_features2 = X2.select_dtypes(include=['object']).columns.tolist()\n",
        "scale_pos_weight2 = (y2 == 0).sum() / (y2 == 1).sum()\n",
        "\n",
        "model2 = CatBoostClassifier(\n",
        "    iterations=500,  # Количество деревьев\n",
        "    learning_rate=0.05,  # Скорость обучения\n",
        "    depth=6,  # Глубина деревьев\n",
        "    loss_function='Logloss',  # Для бинарной классификации\n",
        "    eval_metric='AUC',  # Оцениваем AUC\n",
        "    verbose=100,  # Вывод логов каждые 100 итераций\n",
        "    l2_leaf_reg=3,  # L2 регуляризация\n",
        "    random_strength = 1,  # Добавляет случайность в процесс построения деревьев\n",
        "    bagging_temperature=1,  # Добавляет случайность при выборке подвыборок\n",
        "    scale_pos_weight=scale_pos_weight2,  # Учитываем дисбаланс\n",
        "    cat_features=cat_features2,  # Категориальные признаки\n",
        ")\n",
        "\n",
        "# Обучаем модель\n",
        "model2.fit(X2, y2, early_stopping_rounds=15)"
      ],
      "metadata": {
        "colab": {
          "base_uri": "https://localhost:8080/"
        },
        "id": "zwH1mmPEBGxY",
        "outputId": "6d2a8118-b244-4857-d8eb-0cb8177cd7b6"
      },
      "execution_count": null,
      "outputs": [
        {
          "output_type": "stream",
          "name": "stdout",
          "text": [
            "0:\ttotal: 53.6ms\tremaining: 26.8s\n",
            "100:\ttotal: 492ms\tremaining: 1.94s\n",
            "200:\ttotal: 987ms\tremaining: 1.47s\n",
            "300:\ttotal: 1.42s\tremaining: 936ms\n",
            "400:\ttotal: 1.86s\tremaining: 458ms\n",
            "499:\ttotal: 2.26s\tremaining: 0us\n"
          ]
        },
        {
          "output_type": "execute_result",
          "data": {
            "text/plain": [
              "<catboost.core.CatBoostClassifier at 0x7a15f7e6f590>"
            ]
          },
          "metadata": {},
          "execution_count": 21
        }
      ]
    },
    {
      "cell_type": "code",
      "source": [
        "def check_on_all(df, model):\n",
        "  X_new = data2.drop('Профинансировано', axis=1)\n",
        "  y_new = data2['Профинансировано']\n",
        "\n",
        "\n",
        "  y_new_pred = model.predict(X_new)\n",
        "\n",
        "  # print(classification_report(y_new, y_new_pred))\n",
        "  Accuracy_1 = accuracy_score(y_new, y_new_pred)\n",
        "  recall_score_1 = recall_score(y_new, y_new_pred)\n",
        "  precision_score_1 = precision_score(y_new, y_new_pred)\n",
        "  f1_score_1 = f1_score(y_new, y_new_pred)\n",
        "  data__RandomForestClassifier_test = pd.DataFrame({'Метрика' : ['Accuracy', 'Recall_score', 'Precision_score', 'F1_score'], 'CatBoost' : [Accuracy_1, recall_score_1, precision_score_1, f1_score_1]})\n",
        "  print(data__RandomForestClassifier_test)\n",
        "  df['Предсказанные значения МО'] = y_new\n",
        "  df['Предсказанные значения МО'].replace({0: 'нет', 1: 'да'})\n",
        "  return df"
      ],
      "metadata": {
        "id": "e63s2jJGOcby"
      },
      "execution_count": null,
      "outputs": []
    },
    {
      "cell_type": "code",
      "source": [
        "df = check_on_all(data2, model2)"
      ],
      "metadata": {
        "colab": {
          "base_uri": "https://localhost:8080/"
        },
        "id": "m3u8--JSvUmL",
        "outputId": "64859d9c-e330-471d-a78a-33388ff9735f"
      },
      "execution_count": null,
      "outputs": [
        {
          "output_type": "stream",
          "name": "stdout",
          "text": [
            "           Метрика  CatBoost\n",
            "0         Accuracy       1.0\n",
            "1     Recall_score       1.0\n",
            "2  Precision_score       1.0\n",
            "3         F1_score       1.0\n"
          ]
        }
      ]
    },
    {
      "cell_type": "code",
      "source": [
        "df['Предсказанные значения МО'].value_counts()"
      ],
      "metadata": {
        "colab": {
          "base_uri": "https://localhost:8080/",
          "height": 178
        },
        "id": "q0gItB03vlzd",
        "outputId": "22956300-c79d-4343-d63d-8f759cff6982"
      },
      "execution_count": null,
      "outputs": [
        {
          "output_type": "execute_result",
          "data": {
            "text/plain": [
              "Предсказанные значения МО\n",
              "0    1106\n",
              "1     181\n",
              "Name: count, dtype: int64"
            ],
            "text/html": [
              "<div>\n",
              "<style scoped>\n",
              "    .dataframe tbody tr th:only-of-type {\n",
              "        vertical-align: middle;\n",
              "    }\n",
              "\n",
              "    .dataframe tbody tr th {\n",
              "        vertical-align: top;\n",
              "    }\n",
              "\n",
              "    .dataframe thead th {\n",
              "        text-align: right;\n",
              "    }\n",
              "</style>\n",
              "<table border=\"1\" class=\"dataframe\">\n",
              "  <thead>\n",
              "    <tr style=\"text-align: right;\">\n",
              "      <th></th>\n",
              "      <th>count</th>\n",
              "    </tr>\n",
              "    <tr>\n",
              "      <th>Предсказанные значения МО</th>\n",
              "      <th></th>\n",
              "    </tr>\n",
              "  </thead>\n",
              "  <tbody>\n",
              "    <tr>\n",
              "      <th>0</th>\n",
              "      <td>1106</td>\n",
              "    </tr>\n",
              "    <tr>\n",
              "      <th>1</th>\n",
              "      <td>181</td>\n",
              "    </tr>\n",
              "  </tbody>\n",
              "</table>\n",
              "</div><br><label><b>dtype:</b> int64</label>"
            ]
          },
          "metadata": {},
          "execution_count": 24
        }
      ]
    },
    {
      "cell_type": "code",
      "source": [
        "filename = 'catboost_best.pkl'\n",
        "with open(filename, 'wb') as file:\n",
        "    pickle.dump(model2, file)"
      ],
      "metadata": {
        "id": "mEgfsvsJvzyK"
      },
      "execution_count": null,
      "outputs": []
    },
    {
      "cell_type": "code",
      "source": [],
      "metadata": {
        "id": "dfqlZcHONopF"
      },
      "execution_count": null,
      "outputs": []
    }
  ]
}